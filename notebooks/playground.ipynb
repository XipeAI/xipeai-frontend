{
 "cells": [
  {
   "cell_type": "code",
   "execution_count": 4,
   "metadata": {},
   "outputs": [],
   "source": [
    "import pydicom\n",
    "from pydicom.dataset import Dataset, FileDataset\n",
    "from pydicom.uid import generate_uid\n",
    "from PIL import Image\n",
    "import numpy as np\n",
    "import datetime\n",
    "import os\n",
    "\n",
    "def png_to_dcm(png_path, dcm_path):\n",
    "    # Open the PNG image\n",
    "    img = Image.open(png_path)\n",
    "    img = img.convert(\"RGB\")  # Ensure image is in RGB mode\n",
    "    np_img = np.array(img)\n",
    "\n",
    "    # Create the DICOM dataset\n",
    "    file_meta = Dataset()\n",
    "    file_meta.MediaStorageSOPClassUID = pydicom.uid.SecondaryCaptureImageStorage\n",
    "    file_meta.MediaStorageSOPInstanceUID = generate_uid()\n",
    "    file_meta.ImplementationClassUID = generate_uid()\n",
    "\n",
    "    ds = FileDataset(dcm_path, {}, file_meta=file_meta, preamble=b\"\\0\" * 128)\n",
    "    \n",
    "    ds.Modality = 'OT'  # Other\n",
    "    ds.ContentDate = str(datetime.date.today()).replace('-', '')\n",
    "    ds.ContentTime = str(datetime.datetime.now().time()).replace(':', '').split('.')[0]\n",
    "\n",
    "    # These are the necessary imaging components of the file meta-information header\n",
    "    ds.SOPClassUID = file_meta.MediaStorageSOPClassUID\n",
    "    ds.SOPInstanceUID = file_meta.MediaStorageSOPInstanceUID\n",
    "    ds.file_meta = file_meta\n",
    "\n",
    "    # Add the image data\n",
    "    ds.Rows, ds.Columns, _ = np_img.shape\n",
    "    ds.SamplesPerPixel = 3\n",
    "    ds.PhotometricInterpretation = \"RGB\"\n",
    "    ds.PlanarConfiguration = 0\n",
    "    ds.BitsAllocated = 8\n",
    "    ds.BitsStored = 8\n",
    "    ds.HighBit = 7\n",
    "    ds.PixelRepresentation = 0\n",
    "    ds.PixelData = np_img.tobytes()\n",
    "\n",
    "    # Add additional metadata\n",
    "    ds.PatientName = \"Test^Firstname\"\n",
    "    ds.PatientID = \"123456\"\n",
    "\n",
    "    # Save the DICOM file\n",
    "    ds.save_as(dcm_path)\n",
    "    print(f\"DICOM file saved to {dcm_path}\")\n"
   ]
  },
  {
   "cell_type": "code",
   "execution_count": 3,
   "metadata": {},
   "outputs": [
    {
     "name": "stdout",
     "output_type": "stream",
     "text": [
      "DICOM file saved to C:/Users/FDIFRIS/Downloads/my-dicom-image(3).dcm\n"
     ]
    }
   ],
   "source": [
    "# Example usage\n",
    "png_path = 'C:/Users/FDIFRIS/Downloads/my-dicom-image(3).png'\n",
    "dcm_path = 'C:/Users/FDIFRIS/Downloads/my-dicom-image(3).dcm'\n",
    "png_to_dcm(png_path, dcm_path)"
   ]
  }
 ],
 "metadata": {
  "kernelspec": {
   "display_name": ".venv",
   "language": "python",
   "name": "python3"
  },
  "language_info": {
   "codemirror_mode": {
    "name": "ipython",
    "version": 3
   },
   "file_extension": ".py",
   "mimetype": "text/x-python",
   "name": "python",
   "nbconvert_exporter": "python",
   "pygments_lexer": "ipython3",
   "version": "3.11.0"
  }
 },
 "nbformat": 4,
 "nbformat_minor": 2
}
