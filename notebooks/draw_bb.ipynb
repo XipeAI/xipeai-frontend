{
 "cells": [
  {
   "cell_type": "code",
   "execution_count": 4,
   "metadata": {},
   "outputs": [],
   "source": [
    "# imports\n",
    "import pydicom\n",
    "import io\n",
    "from skimage.measure import label, regionprops\n",
    "import numpy as np\n",
    "from PIL import Image, ImageDraw"
   ]
  },
  {
   "cell_type": "code",
   "execution_count": null,
   "metadata": {},
   "outputs": [],
   "source": [
    "def get_bounding_boxes(mask, label_value):\n",
    "    labeled_mask = label(mask == label_value)\n",
    "    regions = regionprops(labeled_mask)\n",
    "    boxes = []\n",
    "    for region in regions:\n",
    "        min_row, min_col, max_row, max_col = region.bbox\n",
    "        boxes.append((min_row, min_col, max_row, max_col))\n",
    "    return boxes\n",
    "\n",
    "def draw_bounding_boxes(image, boxes, margin=5, thickness=2):\n",
    "    img_bbox = Image.fromarray((255 * image).astype('uint8')).convert('RGB')\n",
    "    draw = ImageDraw.Draw(img_bbox)\n",
    "    for box in boxes:\n",
    "        top, left, bottom, right = box\n",
    "        top = max(0, top - margin)\n",
    "        left = max(0, left - margin)\n",
    "        bottom = min(image.shape[0], bottom + margin)\n",
    "        right = min(image.shape[1], right + margin)\n",
    "        for i in range(thickness):\n",
    "            draw.rectangle(\n",
    "                [left + i, top + i, right - i, bottom - i],\n",
    "                outline=(255, 0, 0)\n",
    "            )\n",
    "    del draw\n",
    "    return np.asarray(img_bbox)\n",
    "\n",
    "def convert_mask_to_bounding_box(img, seg_mask):\n",
    "    # Decode the DICOM file data\n",
    "    ds = pydicom.dcmread(io.BytesIO(img.read()))\n",
    "    image = ds.pixel_array.astype(float)\n",
    "\n",
    "    # Decode the segmentation file data\n",
    "    seg_ds = pydicom.dcmread(io.BytesIO(seg_mask.read()))\n",
    "    mask = seg_ds.pixel_array\n",
    "\n",
    "    # Get bounding boxes for regions labeled as 2\n",
    "    boxes = get_bounding_boxes(mask, 2)\n",
    "\n",
    "    # Draw bounding boxes on the image\n",
    "    return draw_bounding_boxes(image, boxes)"
   ]
  },
  {
   "cell_type": "code",
   "execution_count": null,
   "metadata": {},
   "outputs": [],
   "source": [
    "# files\n",
    "dicom = \"path/to/dicom.dcm\"\n",
    "seg_dicom = \"path/to/seg_dicom.dcm\"\n",
    "\n",
    "bounding_box_image = convert_mask_to_bounding_box(dicom, seg_dicom)"
   ]
  },
  {
   "cell_type": "code",
   "execution_count": null,
   "metadata": {},
   "outputs": [],
   "source": [
    "\n"
   ]
  }
 ],
 "metadata": {
  "kernelspec": {
   "display_name": ".venv",
   "language": "python",
   "name": "python3"
  },
  "language_info": {
   "codemirror_mode": {
    "name": "ipython",
    "version": 3
   },
   "file_extension": ".py",
   "mimetype": "text/x-python",
   "name": "python",
   "nbconvert_exporter": "python",
   "pygments_lexer": "ipython3",
   "version": "3.11.0"
  }
 },
 "nbformat": 4,
 "nbformat_minor": 2
}
