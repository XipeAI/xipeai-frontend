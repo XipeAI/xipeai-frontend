{
 "cells": [
  {
   "cell_type": "code",
   "execution_count": 1,
   "metadata": {},
   "outputs": [],
   "source": [
    "import pydicom\n",
    "import numpy as np\n",
    "from PIL import Image"
   ]
  },
  {
   "cell_type": "code",
   "execution_count": 2,
   "metadata": {},
   "outputs": [],
   "source": [
    "def analyze_dicom_windowing(dicom_path):\n",
    "    # Read the DICOM file\n",
    "    ds = pydicom.dcmread(dicom_path)\n",
    "\n",
    "    # Get original pixel data\n",
    "    original_pixels = ds.pixel_array\n",
    "\n",
    "    # Get window settings\n",
    "    window_center = ds.WindowCenter\n",
    "    window_width = ds.WindowWidth\n",
    "    if isinstance(window_center, pydicom.multival.MultiValue):\n",
    "        window_center = window_center[0]\n",
    "    if isinstance(window_width, pydicom.multival.MultiValue):\n",
    "        window_width = window_width[0]\n",
    "\n",
    "    # Apply rescale slope and intercept\n",
    "    rescaled_pixels = original_pixels * ds.RescaleSlope + ds.RescaleIntercept\n",
    "\n",
    "    # Apply windowing\n",
    "    def apply_window(image, center, width):\n",
    "        img_min = center - width // 2\n",
    "        img_max = center + width // 2\n",
    "        windowed = np.clip(image, img_min, img_max)\n",
    "        windowed = ((windowed - img_min) / (img_max - img_min) * 255).astype(np.uint8)\n",
    "        return windowed\n",
    "\n",
    "    windowed_pixels = apply_window(rescaled_pixels, window_center, window_width)\n",
    "\n",
    "    # Convert to RGB\n",
    "    rgb_image = Image.fromarray(windowed_pixels).convert('RGB')\n",
    "    rgb_pixels = np.array(rgb_image)\n",
    "\n",
    "    # Print statistics\n",
    "    print(f\"Original pixel value range: {original_pixels.min()} to {original_pixels.max()}\")\n",
    "    print(f\"Rescaled pixel value range: {rescaled_pixels.min():.2f} to {rescaled_pixels.max():.2f}\")\n",
    "    print(f\"Windowed pixel value range: {windowed_pixels.min()} to {windowed_pixels.max()}\")\n",
    "    print(f\"RGB pixel value range: {rgb_pixels.min()} to {rgb_pixels.max()}\")\n",
    "    print(f\"Window Center: {window_center}, Window Width: {window_width}\")\n",
    "    \n",
    "    # Histogram of windowed pixels\n",
    "    hist, bins = np.histogram(windowed_pixels, bins=256, range=(0, 255))\n",
    "    print(\"Histogram of windowed pixels:\")\n",
    "    print(hist)\n",
    "\n",
    "    return original_pixels, rescaled_pixels, windowed_pixels, rgb_pixels"
   ]
  },
  {
   "cell_type": "code",
   "execution_count": 3,
   "metadata": {},
   "outputs": [
    {
     "name": "stdout",
     "output_type": "stream",
     "text": [
      "Original pixel value range: -2048 to 1331\n",
      "Rescaled pixel value range: -2048.00 to 1331.00\n",
      "Windowed pixel value range: 0 to 255\n",
      "RGB pixel value range: 0 to 255\n",
      "Window Center: 40, Window Width: 400\n",
      "Histogram of windowed pixels:\n",
      "[224230     90     46     89     60    123     85    133    164     77\n",
      "    168     74    173    111    215    229    107    232    138    292\n",
      "    108    261    294    151    309    155    302    146    323    302\n",
      "    154    292    137    337    164    284    313    152    303    144\n",
      "    309    134    275    271    140    265    111    257    121    240\n",
      "    114    216    216     94    171    107    214     96    204    207\n",
      "     98    176     88    169    100    193    155    105    196     82\n",
      "    182     81    163    186     89    191     87    180     85    184\n",
      "    180     97    195    100    180     85    163    208     98    205\n",
      "    100    213    113    196    189    110    205    116    237     99\n",
      "    239    119    264    247    106    241    113    250    114    265\n",
      "    262    121    242    116    258    136    272    266    146    251\n",
      "    146    286    141    281    248    115    248    122    263    121\n",
      "    247    236    116    224    107    224     89    186    186     90\n",
      "    190     79    174     86    166    158     81    158     72    114\n",
      "     64    151     58    125    120     56    117     57    146     58\n",
      "    115    122     46     99     53    118     60     72     94     52\n",
      "    109     29    103     54    100     97     34     78     48     82\n",
      "     51    109     87     49     91     44    101     42     96     80\n",
      "     48     90     45     90     38     77     72     35     93     52\n",
      "     95     43     81     37     95     86     30     79     31     89\n",
      "     46     75     85     27     92     41     82     33     96     97\n",
      "     43     78     49     96     40     98    119     48     99     41\n",
      "    111     39    122    110     54    120     48    113     58    123\n",
      "    118     57    103     58    103     57    133    127     53    106\n",
      "     58    116     63    112     62   3872]\n"
     ]
    }
   ],
   "source": [
    "# Usage\n",
    "dicom_path = \"C:/MyPythonProjects/XipeAI/xipeai-frontend/uploads/extracted/0066/unnamed_8/IM-0024-0001.dcm\"\n",
    "original, rescaled, windowed, rgb = analyze_dicom_windowing(dicom_path)"
   ]
  }
 ],
 "metadata": {
  "kernelspec": {
   "display_name": ".venv",
   "language": "python",
   "name": "python3"
  },
  "language_info": {
   "codemirror_mode": {
    "name": "ipython",
    "version": 3
   },
   "file_extension": ".py",
   "mimetype": "text/x-python",
   "name": "python",
   "nbconvert_exporter": "python",
   "pygments_lexer": "ipython3",
   "version": "3.11.0"
  }
 },
 "nbformat": 4,
 "nbformat_minor": 2
}
