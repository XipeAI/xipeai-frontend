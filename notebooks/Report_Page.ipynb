{
 "cells": [
  {
   "cell_type": "code",
   "execution_count": 94,
   "id": "58066d9c",
   "metadata": {},
   "outputs": [],
   "source": [
    "import nibabel as nib\n",
    "import numpy as np\n",
    "import os\n",
    "import pydicom\n",
    "import scipy.ndimage\n",
    "from pydicom.dataset import Dataset, FileDataset\n",
    "import datetime\n",
    "import matplotlib.pyplot as plt\n",
    "from PIL import Image\n",
    "import pandas as pd\n",
    "import io"
   ]
  },
  {
   "cell_type": "code",
   "execution_count": 48,
   "id": "330f2f94",
   "metadata": {},
   "outputs": [],
   "source": [
    "nifti_file_seg = '~/Downloads/066volume_010.nii.gz'\n",
    "nifti_file = '~/Downloads/066volume_010_0000.nii.gz'\n",
    "image_seg = nib.load(nifti_file_seg)\n",
    "data = image_seg.get_fdata()\n",
    "image = nib.load(nifti_file)"
   ]
  },
  {
   "cell_type": "code",
   "execution_count": 49,
   "id": "6c44d1ea",
   "metadata": {},
   "outputs": [
    {
     "name": "stdout",
     "output_type": "stream",
     "text": [
      "Unique values in the NIfTI file: [0. 1. 2.]\n"
     ]
    }
   ],
   "source": [
    "unique_values = np.unique(data)\n",
    "print(\"Unique values in the NIfTI file:\", unique_values)"
   ]
  },
  {
   "cell_type": "code",
   "execution_count": 50,
   "id": "afdbc651",
   "metadata": {},
   "outputs": [
    {
     "name": "stdout",
     "output_type": "stream",
     "text": [
      "(0.907, 0.907, 0.8)\n"
     ]
    }
   ],
   "source": [
    "# voxel_dims of prediction\n",
    "voxel_dims = image_seg.header.get_zooms()\n",
    "print(voxel_dims)"
   ]
  },
  {
   "cell_type": "code",
   "execution_count": 51,
   "id": "058ef7bf",
   "metadata": {},
   "outputs": [
    {
     "name": "stdout",
     "output_type": "stream",
     "text": [
      "(0.907, 0.907, 0.8)\n"
     ]
    }
   ],
   "source": [
    "# voxel_dims of input nifti\n",
    "voxel_dims = image.header.get_zooms()\n",
    "print(voxel_dims)"
   ]
  },
  {
   "cell_type": "code",
   "execution_count": 52,
   "id": "409b97fc",
   "metadata": {},
   "outputs": [],
   "source": [
    "def get_dicom_voxel_dims(dicom_dir):\n",
    "    # Load a sample DICOM file to get the metadata\n",
    "    dicom_files = [pydicom.dcmread(os.path.join(dicom_dir, f)) for f in os.listdir(dicom_dir) if f.endswith('.dcm')]\n",
    "    \n",
    "    if not dicom_files:\n",
    "        raise ValueError(\"No DICOM files found in the directory.\")\n",
    "\n",
    "    sample_dicom = dicom_files[0]\n",
    "\n",
    "    # Extract pixel spacing and slice thickness\n",
    "    pixel_spacing = sample_dicom.PixelSpacing  # [x, y]\n",
    "    slice_thickness = sample_dicom.SliceThickness  # z\n",
    "\n",
    "    voxel_dims = (pixel_spacing[0], pixel_spacing[1], slice_thickness)\n",
    "    return voxel_dims"
   ]
  },
  {
   "cell_type": "code",
   "execution_count": 53,
   "id": "5e0d2faa",
   "metadata": {},
   "outputs": [
    {
     "name": "stdout",
     "output_type": "stream",
     "text": [
      "('0.907', '0.907', '1.0')\n"
     ]
    }
   ],
   "source": [
    "dicom_dir = '/Users/fabio22/Iwas/Xipe_Data/Unnamed_066/unnamed_10'\n",
    "print(get_dicom_voxel_dims(dicom_dir))"
   ]
  },
  {
   "cell_type": "code",
   "execution_count": 60,
   "id": "9ad3a949",
   "metadata": {},
   "outputs": [],
   "source": [
    "def calculate_tumor_properties(data, voxel_dims, decimal_places=2, target_label=2):\n",
    "    # Filter data to include only the target label\n",
    "    labeled_data, num_features = scipy.ndimage.label(data == target_label)\n",
    "    \n",
    "    if num_features == 0:\n",
    "        return f\"No tumor with label {target_label} found.\"\n",
    "\n",
    "    tumors_info = []\n",
    "    for i in range(1, num_features + 1):\n",
    "        tumor_voxels = np.where(labeled_data == i)\n",
    "        \n",
    "        width_voxels = np.max(tumor_voxels[0]) - np.min(tumor_voxels[0]) + 1\n",
    "        height_voxels = np.max(tumor_voxels[1]) - np.min(tumor_voxels[1]) + 1\n",
    "        length_voxels = np.max(tumor_voxels[2]) - np.min(tumor_voxels[2]) + 1\n",
    "\n",
    "        # Convert to physical units and round\n",
    "        width_mm = round(width_voxels * voxel_dims[0], decimal_places)\n",
    "        height_mm = round(height_voxels * voxel_dims[1], decimal_places)\n",
    "        length_mm = round(length_voxels * voxel_dims[2], decimal_places)\n",
    "\n",
    "        volume_voxels = tumor_voxels[0].size\n",
    "        volume_mm3 = round(volume_voxels * (voxel_dims[0] * voxel_dims[1] * voxel_dims[2]), decimal_places)\n",
    "\n",
    "        density = round(volume_voxels / (width_voxels * height_voxels * length_voxels), decimal_places)\n",
    "\n",
    "        tumors_info.append({\n",
    "            \"label\": target_label,\n",
    "            \"region\": i,\n",
    "            \"width (mm)\": width_mm,\n",
    "            \"height (mm)\": height_mm,\n",
    "            \"length (mm)\": length_mm,\n",
    "            \"volume (cubic mm)\": volume_mm3,\n",
    "            \"density\": density\n",
    "        })\n",
    "\n",
    "    return tumors_info"
   ]
  },
  {
   "cell_type": "code",
   "execution_count": 62,
   "id": "dead8e8a",
   "metadata": {},
   "outputs": [
    {
     "name": "stdout",
     "output_type": "stream",
     "text": [
      "[{'label': 2, 'region': 1, 'width (mm)': 11.79, 'height (mm)': 9.98, 'length (mm)': 15.2, 'volume (cubic mm)': 663.38, 'density': 0.37}]\n"
     ]
    }
   ],
   "source": [
    "voxel_dims = image_seg.header.get_zooms()\n",
    "tumor_properties = calculate_tumor_properties(data, voxel_dims)\n",
    "print(tumor_properties)"
   ]
  },
  {
   "cell_type": "code",
   "execution_count": 88,
   "id": "852b9dc6",
   "metadata": {},
   "outputs": [],
   "source": [
    "def generate_table_image(tumor_info):\n",
    "    # Create a DataFrame from the tumor information\n",
    "    df = pd.DataFrame(tumor_info)\n",
    "    \n",
    "    # Plot the table\n",
    "    fig, ax = plt.subplots(figsize=(8, 2 + len(tumor_info) * 0.4))  # Adjust the figure size as needed\n",
    "    ax.axis('tight')\n",
    "    ax.axis('off')\n",
    "    table = ax.table(cellText=df.values, colLabels=df.columns, cellLoc='center', loc='center')\n",
    "    table.auto_set_font_size(False)\n",
    "    table.set_fontsize(10)\n",
    "    table.scale(1.2, 1.2)  # Adjust the scaling as needed\n",
    "    \n",
    "    # Save the table as an image in memory\n",
    "    buf = io.BytesIO()\n",
    "    plt.savefig(buf, format='png')\n",
    "    buf.seek(0)\n",
    "    img = Image.open(buf)\n",
    "    return np.array(img)"
   ]
  },
  {
   "cell_type": "code",
   "execution_count": 89,
   "id": "090ea282",
   "metadata": {},
   "outputs": [],
   "source": [
    "def create_dicom_report_with_table(tumor_info, output_file):\n",
    "    # Create a new DICOM file dataset\n",
    "    file_meta = pydicom.dataset.FileMetaDataset()\n",
    "    file_meta.MediaStorageSOPClassUID = pydicom.uid.SecondaryCaptureImageStorage\n",
    "    file_meta.MediaStorageSOPInstanceUID = pydicom.uid.generate_uid()\n",
    "    file_meta.ImplementationClassUID = pydicom.uid.PYDICOM_IMPLEMENTATION_UID\n",
    "\n",
    "    ds = FileDataset(output_file, {}, file_meta=file_meta, preamble=b'\\0' * 128)\n",
    "    \n",
    "    # Set patient and study information\n",
    "    ds.PatientName = \"Test^Patient\"\n",
    "    ds.PatientID = \"123456\"\n",
    "    ds.StudyInstanceUID = pydicom.uid.generate_uid()\n",
    "    ds.SeriesInstanceUID = pydicom.uid.generate_uid()\n",
    "    ds.SOPInstanceUID = pydicom.uid.generate_uid()\n",
    "    ds.Modality = \"OT\"  # Other\n",
    "    ds.StudyDate = datetime.datetime.now().strftime('%Y%m%d')\n",
    "    ds.StudyTime = datetime.datetime.now().strftime('%H%M%S')\n",
    "\n",
    "    # Generate the table image\n",
    "    table_image = generate_table_image(tumor_info)\n",
    "\n",
    "    # Add the table image to the DICOM file\n",
    "    ds.Rows, ds.Columns = table_image.shape[:2]\n",
    "    ds.SamplesPerPixel = 3 if len(table_image.shape) == 3 else 1\n",
    "    ds.PhotometricInterpretation = \"RGB\" if len(table_image.shape) == 3 else \"MONOCHROME2\"\n",
    "    ds.BitsAllocated = 8\n",
    "    ds.BitsStored = 8\n",
    "    ds.HighBit = 7\n",
    "    ds.PixelRepresentation = 0\n",
    "    ds.PixelData = table_image.tobytes()\n",
    "\n",
    "    # Save the DICOM file\n",
    "    ds.save_as(output_file)\n",
    "    print(f\"DICOM report saved to {output_file}\")"
   ]
  },
  {
   "cell_type": "code",
   "execution_count": 95,
   "id": "7af7d964",
   "metadata": {},
   "outputs": [
    {
     "name": "stdout",
     "output_type": "stream",
     "text": [
      "DICOM report saved to tumor_report.dcm\n"
     ]
    },
    {
     "data": {
      "image/png": "[encoded data removed]",
      "text/plain": [
       "<Figure size 800x240 with 1 Axes>"
      ]
     },
     "metadata": {},
     "output_type": "display_data"
    }
   ],
   "source": [
    "create_dicom_report_with_table(tumor_properties, 'tumor_report.dcm')"
   ]
  },
  {
   "cell_type": "code",
   "execution_count": 84,
   "id": "b5d974a5",
   "metadata": {},
   "outputs": [],
   "source": []
  },
  {
   "cell_type": "code",
   "execution_count": 85,
   "id": "277ce3c2",
   "metadata": {},
   "outputs": [
    {
     "name": "stdout",
     "output_type": "stream",
     "text": [
      "DICOM Report Content:\n",
      "PatientID: 123456\n"
     ]
    }
   ],
   "source": [
    "load_and_display_dicom_text('tumor_report.dcm')"
   ]
  },
  {
   "cell_type": "code",
   "execution_count": null,
   "id": "5efe5812",
   "metadata": {},
   "outputs": [],
   "source": []
  }
 ],
 "metadata": {
  "kernelspec": {
   "display_name": "Python 3 (ipykernel)",
   "language": "python",
   "name": "python3"
  },
  "language_info": {
   "codemirror_mode": {
    "name": "ipython",
    "version": 3
   },
   "file_extension": ".py",
   "mimetype": "text/x-python",
   "name": "python",
   "nbconvert_exporter": "python",
   "pygments_lexer": "ipython3",
   "version": "3.11.5"
  }
 },
 "nbformat": 4,
 "nbformat_minor": 5
}
